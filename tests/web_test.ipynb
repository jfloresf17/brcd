{
 "cells": [
  {
   "cell_type": "code",
   "execution_count": null,
   "metadata": {},
   "outputs": [],
   "source": [
    "import requests\n",
    "import json\n",
    "\n",
    "url = \"http://212.128.193.131:8000/s2/post_s2images\"\n",
    "body = {\n",
    "    \"lat\": 42.629,\n",
    "    \"lon\": -7.479,\n",
    "    \"start_date\": \"2022-04-01\",\n",
    "    \"end_date\": \"2022-10-01\",\n",
    "    \"cloud_cover\": 0.5,\n",
    "    \"patch_size\": 64,\n",
    "    \"folder_path\": \"\",\n",
    "    \"polygon\": [\n",
    "        [-7.478679081112773, 42.62946564333245],\n",
    "        [-7.47889759701701, 42.62917124043389],\n",
    "        [-7.478673405374678, 42.62906892988045],\n",
    "        [-7.478446375865246, 42.629384212882854],\n",
    "        [-7.478679081112773, 42.62946564333245]\n",
    "    ]\n",
    "}\n",
    "\n",
    "# LAT, LON = 40.609, -3.127\n",
    "# START_DATE = \"2019-01-01\"\n",
    "# END_DATE = \"2019-12-31\"\n",
    "# POLYGON = [[[-3.126621342101089,40.609168166400366],[-3.12693665152176,40.608973675913006],[-3.1267165918219746,40.60875923702818],[-3.1263815755633857,40.608956221611635],[-3.126621342101089,40.609168166400366]]]\n",
    "\n",
    "# print(\"Request body:\", json.dumps(body, indent=2))\n",
    "response = requests.post(url, json=body, headers={\"Content-Type\": \"application/json\"})\n",
    "data = response.json()"
   ]
  }
 ],
 "metadata": {
  "kernelspec": {
   "display_name": "tfm",
   "language": "python",
   "name": "python3"
  },
  "language_info": {
   "codemirror_mode": {
    "name": "ipython",
    "version": 3
   },
   "file_extension": ".py",
   "mimetype": "text/x-python",
   "name": "python",
   "nbconvert_exporter": "python",
   "pygments_lexer": "ipython3",
   "version": "3.11.11"
  }
 },
 "nbformat": 4,
 "nbformat_minor": 2
}
